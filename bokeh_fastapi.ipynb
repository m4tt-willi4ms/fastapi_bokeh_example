{
 "cells": [
  {
   "cell_type": "markdown",
   "id": "2355dfe0",
   "metadata": {},
   "source": [
    "# Embed Bokeh Plots with FastAPI\n",
    "\n",
    "It's often the case that -- in addition to a standard, data-centric API -- consumers of your service will want a visualization of the data being provided by your service. The goal of this article is to advertise the ease with which such a thing can be achieved in Python, using the `bokeh` and `FastAPI` libraries.\n",
    "\n",
    "First, we'll present a simple application which displays some random data at the URL endpoint `/random`, based on some path parameters. Then, we implement a second route, `/random/plot`, which behaves the same way, with the exception that instead we now serve a plot of this random data, rather that the data itself.\n",
    "\n",
    "If you prefer to jump in and simply read the code for yourself, the example code discussed here can be found in the Github repo [here](https://github.com/m4tt-willi4ms/fastapi_bokeh_example)."
   ]
  },
  {
   "cell_type": "markdown",
   "id": "7ca120ec",
   "metadata": {},
   "source": [
    "## Part 1: The FastAPI App\n",
    "\n",
    "To begin, let's introduce the code for the `/random` route. \n",
    "\n",
    "> **_NOTE:_**  If you're following along, you'll need to first install `bokeh`, `FastAPI`, and `uvicorn` (to run the server)."
   ]
  },
  {
   "cell_type": "code",
   "execution_count": 1,
   "id": "c8008827",
   "metadata": {},
   "outputs": [],
   "source": [
    "%%capture\n",
    "%%bash\n",
    "pip install bokeh FastAPI uvicorn"
   ]
  },
  {
   "cell_type": "markdown",
   "id": "b9582d95",
   "metadata": {},
   "source": [
    "This route will return a 10x2 array of random numbers between 0 and 1, as seen below:"
   ]
  },
  {
   "cell_type": "code",
   "execution_count": 1,
   "id": "92531a1a",
   "metadata": {},
   "outputs": [],
   "source": [
    "# %load random_app.py\n",
    "from random import random\n",
    "from fastapi import FastAPI, Query\n",
    "import uvicorn\n",
    "\n",
    "app = FastAPI(title=\"Random API\")\n",
    "\n",
    "\n",
    "@app.get(\"/random\", tags=[\"Random Spot Generator\"])\n",
    "async def get_random_numbers(N: int = Query(default=10, gt=0, le=100)):\n",
    "    return {\"spots\": [[random(), random()] for i in range(N)]}\n",
    "\n",
    "def run_server():\n",
    "    uvicorn.run(app)"
   ]
  },
  {
   "cell_type": "markdown",
   "id": "fa93a799",
   "metadata": {},
   "source": [
    "To run this server, simply type `uvicorn fastapi_bokeh:app` at the command line to start the server on port 8000 or, alternatively, run the `run_server()` function. To demo the app, let's do the latter in a separate process. For this we'll need the `multiprocess` library, and -- later -- the `requests` module to demo the behaviour of the route itself."
   ]
  },
  {
   "cell_type": "code",
   "execution_count": 2,
   "id": "51d9ac33",
   "metadata": {},
   "outputs": [],
   "source": [
    "%%capture\n",
    "%%bash\n",
    "pip install requests multiprocess"
   ]
  },
  {
   "cell_type": "code",
   "execution_count": 3,
   "id": "740b45c7",
   "metadata": {},
   "outputs": [
    {
     "name": "stderr",
     "output_type": "stream",
     "text": [
      "INFO:     Started server process [2577]\n",
      "INFO:     Waiting for application startup.\n",
      "INFO:     Application startup complete.\n",
      "INFO:     Uvicorn running on http://127.0.0.1:8000 (Press CTRL+C to quit)\n"
     ]
    },
    {
     "name": "stdout",
     "output_type": "stream",
     "text": [
      "INFO:     127.0.0.1:61473 - \"GET /random?N=5 HTTP/1.1\" 200 OK\n",
      "INFO:     127.0.0.1:61523 - \"GET /docs HTTP/1.1\" 200 OK\n",
      "INFO:     127.0.0.1:61523 - \"GET /openapi.json HTTP/1.1\" 200 OK\n",
      "INFO:     127.0.0.1:61680 - \"GET /random?N=10 HTTP/1.1\" 200 OK\n",
      "INFO:     127.0.0.1:61759 - \"GET /random?N=10 HTTP/1.1\" 200 OK\n",
      "INFO:     127.0.0.1:63089 - \"GET /docs HTTP/1.1\" 200 OK\n",
      "INFO:     127.0.0.1:63089 - \"GET /openapi.json HTTP/1.1\" 200 OK\n",
      "INFO:     127.0.0.1:63089 - \"GET /docs HTTP/1.1\" 200 OK\n",
      "INFO:     127.0.0.1:63089 - \"GET /openapi.json HTTP/1.1\" 200 OK\n",
      "INFO:     127.0.0.1:64361 - \"GET /random/plot HTTP/1.1\" 404 Not Found\n",
      "INFO:     127.0.0.1:65244 - \"GET /random/plot HTTP/1.1\" 404 Not Found\n",
      "INFO:     127.0.0.1:49989 - \"GET /random/plot HTTP/1.1\" 404 Not Found\n"
     ]
    }
   ],
   "source": [
    "import multiprocess as mp\n",
    "app_process = mp.Process(target=run_server)\n",
    "app_process.start()"
   ]
  },
  {
   "cell_type": "markdown",
   "id": "3eaef9b0",
   "metadata": {},
   "source": [
    "Once the server is running, random 2D points can then be generated at [http://localhost:8000/random](http://localhost:8000/random \"/random\"), and retrieved using the `requests` library as seen below:"
   ]
  },
  {
   "cell_type": "code",
   "execution_count": 4,
   "id": "b6301c3b",
   "metadata": {},
   "outputs": [
    {
     "data": {
      "text/plain": [
       "{'spots': [[0.2876536311832719, 0.5866017874060421],\n",
       "  [0.07036282735219523, 0.07535416465197775],\n",
       "  [0.5888271540118375, 0.2694794210554914],\n",
       "  [0.7060137805237097, 0.09031019491216496],\n",
       "  [0.013382557224644098, 0.4087968852610101]]}"
      ]
     },
     "execution_count": 4,
     "metadata": {},
     "output_type": "execute_result"
    }
   ],
   "source": [
    "import requests\n",
    "requests.get(\"http://localhost:8000/random\", params={\"N\": 5}).json()"
   ]
  },
  {
   "cell_type": "markdown",
   "id": "d4e716c9",
   "metadata": {},
   "source": [
    "The server's Swagger documentation can be found at [http://localhost:8000/docs](http://localhost:8000/docs \"/docs\")."
   ]
  },
  {
   "cell_type": "code",
   "execution_count": 5,
   "id": "f5be3765",
   "metadata": {},
   "outputs": [
    {
     "data": {
      "text/html": [
       "\n",
       "        <iframe\n",
       "            width=\"800\"\n",
       "            height=\"600\"\n",
       "            src=\"http://localhost:8000/docs\"\n",
       "            frameborder=\"0\"\n",
       "            allowfullscreen\n",
       "            \n",
       "        ></iframe>\n",
       "        "
      ],
      "text/plain": [
       "<IPython.lib.display.IFrame at 0x11242ace0>"
      ]
     },
     "execution_count": 5,
     "metadata": {},
     "output_type": "execute_result"
    }
   ],
   "source": [
    "from IPython.display import IFrame\n",
    "IFrame(\"http://localhost:8000/docs\", 800, 600)"
   ]
  },
  {
   "cell_type": "markdown",
   "id": "3331c592",
   "metadata": {},
   "source": [
    "## Part 2: The Plot\n",
    "\n",
    "Given this nice two-dimensional array of data, we now wish to display it in a `bokeh` plot. This can be achieved with the following lines of code:"
   ]
  },
  {
   "cell_type": "code",
   "execution_count": 6,
   "id": "2e255ee4",
   "metadata": {},
   "outputs": [],
   "source": [
    "# %load plot.py\n",
    "from random import random\n",
    "\n",
    "from bokeh.plotting import figure, curdoc\n",
    "from bokeh.layouts import column\n",
    "import requests\n",
    "\n",
    "def get_spots(N):\n",
    "    try:\n",
    "        response = requests.get(\"http://localhost:8000/random\", params={\"N\": N}).json()\n",
    "    except Exception as e:\n",
    "        # If the server's not running, using stand-in values instead\n",
    "        response = {\"spots\": [[random(), random()] for _ in range(N)]}\n",
    "    spots = response[\"spots\"]\n",
    "    return {\n",
    "        \"x\": [spot[0] for spot in spots],\n",
    "        \"y\": [spot[1] for spot in spots],\n",
    "    }\n",
    "\n",
    "def add_figure(doc):\n",
    "    p = figure()\n",
    "\n",
    "    data = get_spots(10)\n",
    "\n",
    "    p.circle(\"x\", \"y\", source=data)\n",
    "\n",
    "    doc.add_root(column(p))\n",
    "\n",
    "doc = curdoc()\n",
    "add_figure(doc)"
   ]
  },
  {
   "cell_type": "markdown",
   "id": "5a125731",
   "metadata": {},
   "source": [
    "A quick note about how the data is being generated: in `get_spots(N)` we attempt to make a call to the API first, and &mdash; if it's running &mdash; then the retrieved data is used. Otherwise, we populate some stand-in values so that the plot can be viewed even if the service is unavailable.\n",
    "\n",
    "This plot can be viewed in-browser by running\n",
    "```\n",
    "bokeh serve --show plot.py\n",
    "```\n",
    "at the command line, or in a notebook as shown below:"
   ]
  },
  {
   "cell_type": "code",
   "execution_count": 7,
   "id": "729ac8d9",
   "metadata": {},
   "outputs": [
    {
     "data": {
      "text/html": [
       "<div class=\"bk-root\">\n",
       "        <a href=\"https://bokeh.org\" target=\"_blank\" class=\"bk-logo bk-logo-small bk-logo-notebook\"></a>\n",
       "        <span id=\"1052\">Loading BokehJS ...</span>\n",
       "    </div>\n"
      ]
     },
     "metadata": {},
     "output_type": "display_data"
    },
    {
     "data": {
      "application/javascript": [
       "(function(root) {\n",
       "  function now() {\n",
       "    return new Date();\n",
       "  }\n",
       "\n",
       "  const force = true;\n",
       "\n",
       "  if (typeof root._bokeh_onload_callbacks === \"undefined\" || force === true) {\n",
       "    root._bokeh_onload_callbacks = [];\n",
       "    root._bokeh_is_loading = undefined;\n",
       "  }\n",
       "\n",
       "const JS_MIME_TYPE = 'application/javascript';\n",
       "  const HTML_MIME_TYPE = 'text/html';\n",
       "  const EXEC_MIME_TYPE = 'application/vnd.bokehjs_exec.v0+json';\n",
       "  const CLASS_NAME = 'output_bokeh rendered_html';\n",
       "\n",
       "  /**\n",
       "   * Render data to the DOM node\n",
       "   */\n",
       "  function render(props, node) {\n",
       "    const script = document.createElement(\"script\");\n",
       "    node.appendChild(script);\n",
       "  }\n",
       "\n",
       "  /**\n",
       "   * Handle when an output is cleared or removed\n",
       "   */\n",
       "  function handleClearOutput(event, handle) {\n",
       "    const cell = handle.cell;\n",
       "\n",
       "    const id = cell.output_area._bokeh_element_id;\n",
       "    const server_id = cell.output_area._bokeh_server_id;\n",
       "    // Clean up Bokeh references\n",
       "    if (id != null && id in Bokeh.index) {\n",
       "      Bokeh.index[id].model.document.clear();\n",
       "      delete Bokeh.index[id];\n",
       "    }\n",
       "\n",
       "    if (server_id !== undefined) {\n",
       "      // Clean up Bokeh references\n",
       "      const cmd_clean = \"from bokeh.io.state import curstate; print(curstate().uuid_to_server['\" + server_id + \"'].get_sessions()[0].document.roots[0]._id)\";\n",
       "      cell.notebook.kernel.execute(cmd_clean, {\n",
       "        iopub: {\n",
       "          output: function(msg) {\n",
       "            const id = msg.content.text.trim();\n",
       "            if (id in Bokeh.index) {\n",
       "              Bokeh.index[id].model.document.clear();\n",
       "              delete Bokeh.index[id];\n",
       "            }\n",
       "          }\n",
       "        }\n",
       "      });\n",
       "      // Destroy server and session\n",
       "      const cmd_destroy = \"import bokeh.io.notebook as ion; ion.destroy_server('\" + server_id + \"')\";\n",
       "      cell.notebook.kernel.execute(cmd_destroy);\n",
       "    }\n",
       "  }\n",
       "\n",
       "  /**\n",
       "   * Handle when a new output is added\n",
       "   */\n",
       "  function handleAddOutput(event, handle) {\n",
       "    const output_area = handle.output_area;\n",
       "    const output = handle.output;\n",
       "\n",
       "    // limit handleAddOutput to display_data with EXEC_MIME_TYPE content only\n",
       "    if ((output.output_type != \"display_data\") || (!Object.prototype.hasOwnProperty.call(output.data, EXEC_MIME_TYPE))) {\n",
       "      return\n",
       "    }\n",
       "\n",
       "    const toinsert = output_area.element.find(\".\" + CLASS_NAME.split(' ')[0]);\n",
       "\n",
       "    if (output.metadata[EXEC_MIME_TYPE][\"id\"] !== undefined) {\n",
       "      toinsert[toinsert.length - 1].firstChild.textContent = output.data[JS_MIME_TYPE];\n",
       "      // store reference to embed id on output_area\n",
       "      output_area._bokeh_element_id = output.metadata[EXEC_MIME_TYPE][\"id\"];\n",
       "    }\n",
       "    if (output.metadata[EXEC_MIME_TYPE][\"server_id\"] !== undefined) {\n",
       "      const bk_div = document.createElement(\"div\");\n",
       "      bk_div.innerHTML = output.data[HTML_MIME_TYPE];\n",
       "      const script_attrs = bk_div.children[0].attributes;\n",
       "      for (let i = 0; i < script_attrs.length; i++) {\n",
       "        toinsert[toinsert.length - 1].firstChild.setAttribute(script_attrs[i].name, script_attrs[i].value);\n",
       "        toinsert[toinsert.length - 1].firstChild.textContent = bk_div.children[0].textContent\n",
       "      }\n",
       "      // store reference to server id on output_area\n",
       "      output_area._bokeh_server_id = output.metadata[EXEC_MIME_TYPE][\"server_id\"];\n",
       "    }\n",
       "  }\n",
       "\n",
       "  function register_renderer(events, OutputArea) {\n",
       "\n",
       "    function append_mime(data, metadata, element) {\n",
       "      // create a DOM node to render to\n",
       "      const toinsert = this.create_output_subarea(\n",
       "        metadata,\n",
       "        CLASS_NAME,\n",
       "        EXEC_MIME_TYPE\n",
       "      );\n",
       "      this.keyboard_manager.register_events(toinsert);\n",
       "      // Render to node\n",
       "      const props = {data: data, metadata: metadata[EXEC_MIME_TYPE]};\n",
       "      render(props, toinsert[toinsert.length - 1]);\n",
       "      element.append(toinsert);\n",
       "      return toinsert\n",
       "    }\n",
       "\n",
       "    /* Handle when an output is cleared or removed */\n",
       "    events.on('clear_output.CodeCell', handleClearOutput);\n",
       "    events.on('delete.Cell', handleClearOutput);\n",
       "\n",
       "    /* Handle when a new output is added */\n",
       "    events.on('output_added.OutputArea', handleAddOutput);\n",
       "\n",
       "    /**\n",
       "     * Register the mime type and append_mime function with output_area\n",
       "     */\n",
       "    OutputArea.prototype.register_mime_type(EXEC_MIME_TYPE, append_mime, {\n",
       "      /* Is output safe? */\n",
       "      safe: true,\n",
       "      /* Index of renderer in `output_area.display_order` */\n",
       "      index: 0\n",
       "    });\n",
       "  }\n",
       "\n",
       "  // register the mime type if in Jupyter Notebook environment and previously unregistered\n",
       "  if (root.Jupyter !== undefined) {\n",
       "    const events = require('base/js/events');\n",
       "    const OutputArea = require('notebook/js/outputarea').OutputArea;\n",
       "\n",
       "    if (OutputArea.prototype.mime_types().indexOf(EXEC_MIME_TYPE) == -1) {\n",
       "      register_renderer(events, OutputArea);\n",
       "    }\n",
       "  }\n",
       "  if (typeof (root._bokeh_timeout) === \"undefined\" || force === true) {\n",
       "    root._bokeh_timeout = Date.now() + 5000;\n",
       "    root._bokeh_failed_load = false;\n",
       "  }\n",
       "\n",
       "  const NB_LOAD_WARNING = {'data': {'text/html':\n",
       "     \"<div style='background-color: #fdd'>\\n\"+\n",
       "     \"<p>\\n\"+\n",
       "     \"BokehJS does not appear to have successfully loaded. If loading BokehJS from CDN, this \\n\"+\n",
       "     \"may be due to a slow or bad network connection. Possible fixes:\\n\"+\n",
       "     \"</p>\\n\"+\n",
       "     \"<ul>\\n\"+\n",
       "     \"<li>re-rerun `output_notebook()` to attempt to load from CDN again, or</li>\\n\"+\n",
       "     \"<li>use INLINE resources instead, as so:</li>\\n\"+\n",
       "     \"</ul>\\n\"+\n",
       "     \"<code>\\n\"+\n",
       "     \"from bokeh.resources import INLINE\\n\"+\n",
       "     \"output_notebook(resources=INLINE)\\n\"+\n",
       "     \"</code>\\n\"+\n",
       "     \"</div>\"}};\n",
       "\n",
       "  function display_loaded() {\n",
       "    const el = document.getElementById(\"1052\");\n",
       "    if (el != null) {\n",
       "      el.textContent = \"BokehJS is loading...\";\n",
       "    }\n",
       "    if (root.Bokeh !== undefined) {\n",
       "      if (el != null) {\n",
       "        el.textContent = \"BokehJS \" + root.Bokeh.version + \" successfully loaded.\";\n",
       "      }\n",
       "    } else if (Date.now() < root._bokeh_timeout) {\n",
       "      setTimeout(display_loaded, 100)\n",
       "    }\n",
       "  }\n",
       "\n",
       "  function run_callbacks() {\n",
       "    try {\n",
       "      root._bokeh_onload_callbacks.forEach(function(callback) {\n",
       "        if (callback != null)\n",
       "          callback();\n",
       "      });\n",
       "    } finally {\n",
       "      delete root._bokeh_onload_callbacks\n",
       "    }\n",
       "    console.debug(\"Bokeh: all callbacks have finished\");\n",
       "  }\n",
       "\n",
       "  function load_libs(css_urls, js_urls, callback) {\n",
       "    if (css_urls == null) css_urls = [];\n",
       "    if (js_urls == null) js_urls = [];\n",
       "\n",
       "    root._bokeh_onload_callbacks.push(callback);\n",
       "    if (root._bokeh_is_loading > 0) {\n",
       "      console.debug(\"Bokeh: BokehJS is being loaded, scheduling callback at\", now());\n",
       "      return null;\n",
       "    }\n",
       "    if (js_urls == null || js_urls.length === 0) {\n",
       "      run_callbacks();\n",
       "      return null;\n",
       "    }\n",
       "    console.debug(\"Bokeh: BokehJS not loaded, scheduling load and callback at\", now());\n",
       "    root._bokeh_is_loading = css_urls.length + js_urls.length;\n",
       "\n",
       "    function on_load() {\n",
       "      root._bokeh_is_loading--;\n",
       "      if (root._bokeh_is_loading === 0) {\n",
       "        console.debug(\"Bokeh: all BokehJS libraries/stylesheets loaded\");\n",
       "        run_callbacks()\n",
       "      }\n",
       "    }\n",
       "\n",
       "    function on_error(url) {\n",
       "      console.error(\"failed to load \" + url);\n",
       "    }\n",
       "\n",
       "    for (let i = 0; i < css_urls.length; i++) {\n",
       "      const url = css_urls[i];\n",
       "      const element = document.createElement(\"link\");\n",
       "      element.onload = on_load;\n",
       "      element.onerror = on_error.bind(null, url);\n",
       "      element.rel = \"stylesheet\";\n",
       "      element.type = \"text/css\";\n",
       "      element.href = url;\n",
       "      console.debug(\"Bokeh: injecting link tag for BokehJS stylesheet: \", url);\n",
       "      document.body.appendChild(element);\n",
       "    }\n",
       "\n",
       "    for (let i = 0; i < js_urls.length; i++) {\n",
       "      const url = js_urls[i];\n",
       "      const element = document.createElement('script');\n",
       "      element.onload = on_load;\n",
       "      element.onerror = on_error.bind(null, url);\n",
       "      element.async = false;\n",
       "      element.src = url;\n",
       "      console.debug(\"Bokeh: injecting script tag for BokehJS library: \", url);\n",
       "      document.head.appendChild(element);\n",
       "    }\n",
       "  };\n",
       "\n",
       "  function inject_raw_css(css) {\n",
       "    const element = document.createElement(\"style\");\n",
       "    element.appendChild(document.createTextNode(css));\n",
       "    document.body.appendChild(element);\n",
       "  }\n",
       "\n",
       "  const js_urls = [\"https://cdn.bokeh.org/bokeh/release/bokeh-2.4.3.min.js\", \"https://cdn.bokeh.org/bokeh/release/bokeh-gl-2.4.3.min.js\", \"https://cdn.bokeh.org/bokeh/release/bokeh-widgets-2.4.3.min.js\", \"https://cdn.bokeh.org/bokeh/release/bokeh-tables-2.4.3.min.js\", \"https://cdn.bokeh.org/bokeh/release/bokeh-mathjax-2.4.3.min.js\"];\n",
       "  const css_urls = [];\n",
       "\n",
       "  const inline_js = [    function(Bokeh) {\n",
       "      Bokeh.set_log_level(\"info\");\n",
       "    },\n",
       "function(Bokeh) {\n",
       "    }\n",
       "  ];\n",
       "\n",
       "  function run_inline_js() {\n",
       "    if (root.Bokeh !== undefined || force === true) {\n",
       "          for (let i = 0; i < inline_js.length; i++) {\n",
       "      inline_js[i].call(root, root.Bokeh);\n",
       "    }\n",
       "if (force === true) {\n",
       "        display_loaded();\n",
       "      }} else if (Date.now() < root._bokeh_timeout) {\n",
       "      setTimeout(run_inline_js, 100);\n",
       "    } else if (!root._bokeh_failed_load) {\n",
       "      console.log(\"Bokeh: BokehJS failed to load within specified timeout.\");\n",
       "      root._bokeh_failed_load = true;\n",
       "    } else if (force !== true) {\n",
       "      const cell = $(document.getElementById(\"1052\")).parents('.cell').data().cell;\n",
       "      cell.output_area.append_execute_result(NB_LOAD_WARNING)\n",
       "    }\n",
       "  }\n",
       "\n",
       "  if (root._bokeh_is_loading === 0) {\n",
       "    console.debug(\"Bokeh: BokehJS loaded, going straight to plotting\");\n",
       "    run_inline_js();\n",
       "  } else {\n",
       "    load_libs(css_urls, js_urls, function() {\n",
       "      console.debug(\"Bokeh: BokehJS plotting callback run at\", now());\n",
       "      run_inline_js();\n",
       "    });\n",
       "  }\n",
       "}(window));"
      ],
      "application/vnd.bokehjs_load.v0+json": "(function(root) {\n  function now() {\n    return new Date();\n  }\n\n  const force = true;\n\n  if (typeof root._bokeh_onload_callbacks === \"undefined\" || force === true) {\n    root._bokeh_onload_callbacks = [];\n    root._bokeh_is_loading = undefined;\n  }\n\n\n  if (typeof (root._bokeh_timeout) === \"undefined\" || force === true) {\n    root._bokeh_timeout = Date.now() + 5000;\n    root._bokeh_failed_load = false;\n  }\n\n  const NB_LOAD_WARNING = {'data': {'text/html':\n     \"<div style='background-color: #fdd'>\\n\"+\n     \"<p>\\n\"+\n     \"BokehJS does not appear to have successfully loaded. If loading BokehJS from CDN, this \\n\"+\n     \"may be due to a slow or bad network connection. Possible fixes:\\n\"+\n     \"</p>\\n\"+\n     \"<ul>\\n\"+\n     \"<li>re-rerun `output_notebook()` to attempt to load from CDN again, or</li>\\n\"+\n     \"<li>use INLINE resources instead, as so:</li>\\n\"+\n     \"</ul>\\n\"+\n     \"<code>\\n\"+\n     \"from bokeh.resources import INLINE\\n\"+\n     \"output_notebook(resources=INLINE)\\n\"+\n     \"</code>\\n\"+\n     \"</div>\"}};\n\n  function display_loaded() {\n    const el = document.getElementById(\"1052\");\n    if (el != null) {\n      el.textContent = \"BokehJS is loading...\";\n    }\n    if (root.Bokeh !== undefined) {\n      if (el != null) {\n        el.textContent = \"BokehJS \" + root.Bokeh.version + \" successfully loaded.\";\n      }\n    } else if (Date.now() < root._bokeh_timeout) {\n      setTimeout(display_loaded, 100)\n    }\n  }\n\n  function run_callbacks() {\n    try {\n      root._bokeh_onload_callbacks.forEach(function(callback) {\n        if (callback != null)\n          callback();\n      });\n    } finally {\n      delete root._bokeh_onload_callbacks\n    }\n    console.debug(\"Bokeh: all callbacks have finished\");\n  }\n\n  function load_libs(css_urls, js_urls, callback) {\n    if (css_urls == null) css_urls = [];\n    if (js_urls == null) js_urls = [];\n\n    root._bokeh_onload_callbacks.push(callback);\n    if (root._bokeh_is_loading > 0) {\n      console.debug(\"Bokeh: BokehJS is being loaded, scheduling callback at\", now());\n      return null;\n    }\n    if (js_urls == null || js_urls.length === 0) {\n      run_callbacks();\n      return null;\n    }\n    console.debug(\"Bokeh: BokehJS not loaded, scheduling load and callback at\", now());\n    root._bokeh_is_loading = css_urls.length + js_urls.length;\n\n    function on_load() {\n      root._bokeh_is_loading--;\n      if (root._bokeh_is_loading === 0) {\n        console.debug(\"Bokeh: all BokehJS libraries/stylesheets loaded\");\n        run_callbacks()\n      }\n    }\n\n    function on_error(url) {\n      console.error(\"failed to load \" + url);\n    }\n\n    for (let i = 0; i < css_urls.length; i++) {\n      const url = css_urls[i];\n      const element = document.createElement(\"link\");\n      element.onload = on_load;\n      element.onerror = on_error.bind(null, url);\n      element.rel = \"stylesheet\";\n      element.type = \"text/css\";\n      element.href = url;\n      console.debug(\"Bokeh: injecting link tag for BokehJS stylesheet: \", url);\n      document.body.appendChild(element);\n    }\n\n    for (let i = 0; i < js_urls.length; i++) {\n      const url = js_urls[i];\n      const element = document.createElement('script');\n      element.onload = on_load;\n      element.onerror = on_error.bind(null, url);\n      element.async = false;\n      element.src = url;\n      console.debug(\"Bokeh: injecting script tag for BokehJS library: \", url);\n      document.head.appendChild(element);\n    }\n  };\n\n  function inject_raw_css(css) {\n    const element = document.createElement(\"style\");\n    element.appendChild(document.createTextNode(css));\n    document.body.appendChild(element);\n  }\n\n  const js_urls = [\"https://cdn.bokeh.org/bokeh/release/bokeh-2.4.3.min.js\", \"https://cdn.bokeh.org/bokeh/release/bokeh-gl-2.4.3.min.js\", \"https://cdn.bokeh.org/bokeh/release/bokeh-widgets-2.4.3.min.js\", \"https://cdn.bokeh.org/bokeh/release/bokeh-tables-2.4.3.min.js\", \"https://cdn.bokeh.org/bokeh/release/bokeh-mathjax-2.4.3.min.js\"];\n  const css_urls = [];\n\n  const inline_js = [    function(Bokeh) {\n      Bokeh.set_log_level(\"info\");\n    },\nfunction(Bokeh) {\n    }\n  ];\n\n  function run_inline_js() {\n    if (root.Bokeh !== undefined || force === true) {\n          for (let i = 0; i < inline_js.length; i++) {\n      inline_js[i].call(root, root.Bokeh);\n    }\nif (force === true) {\n        display_loaded();\n      }} else if (Date.now() < root._bokeh_timeout) {\n      setTimeout(run_inline_js, 100);\n    } else if (!root._bokeh_failed_load) {\n      console.log(\"Bokeh: BokehJS failed to load within specified timeout.\");\n      root._bokeh_failed_load = true;\n    } else if (force !== true) {\n      const cell = $(document.getElementById(\"1052\")).parents('.cell').data().cell;\n      cell.output_area.append_execute_result(NB_LOAD_WARNING)\n    }\n  }\n\n  if (root._bokeh_is_loading === 0) {\n    console.debug(\"Bokeh: BokehJS loaded, going straight to plotting\");\n    run_inline_js();\n  } else {\n    load_libs(css_urls, js_urls, function() {\n      console.debug(\"Bokeh: BokehJS plotting callback run at\", now());\n      run_inline_js();\n    });\n  }\n}(window));"
     },
     "metadata": {},
     "output_type": "display_data"
    },
    {
     "data": {
      "application/vnd.bokehjs_exec.v0+json": "",
      "text/html": [
       "<script id=\"1053\">\n",
       "  (function() {\n",
       "    const xhr = new XMLHttpRequest()\n",
       "    xhr.responseType = 'blob';\n",
       "    xhr.open('GET', \"http://localhost:61756/autoload.js?bokeh-autoload-element=1053&bokeh-absolute-url=http://localhost:61756&resources=none\", true);\n",
       "    xhr.onload = function (event) {\n",
       "      const script = document.createElement('script');\n",
       "      const src = URL.createObjectURL(event.target.response);\n",
       "      script.src = src;\n",
       "      document.body.appendChild(script);\n",
       "    };\n",
       "    xhr.send();\n",
       "  })();\n",
       "</script>"
      ]
     },
     "metadata": {
      "application/vnd.bokehjs_exec.v0+json": {
       "server_id": "887c04ff608c4c1ea122c018d3a05765"
      }
     },
     "output_type": "display_data"
    }
   ],
   "source": [
    "from bokeh.io import output_notebook, show\n",
    "output_notebook()\n",
    "\n",
    "# May be different in your case, depending on where Jupyter is being hosted\n",
    "NOTEBOOK_PORT = 8890 \n",
    "\n",
    "# from plot import add_figure\n",
    "show(add_figure, notebook_url=\"http://localhost:\" + str(NOTEBOOK_PORT))"
   ]
  },
  {
   "cell_type": "markdown",
   "id": "c170874e",
   "metadata": {},
   "source": [
    "## Part 3: Making the Plot Interactive\n",
    "\n",
    "This is all well and good, but we can do better: since the API endpoint also takes a query parameter $N$, we can do the same here by introducing a slider which will update the number of random spots being plotted when dragged."
   ]
  },
  {
   "cell_type": "code",
   "execution_count": 11,
   "id": "2bb87ba3",
   "metadata": {},
   "outputs": [],
   "source": [
    "# %load plot_slider.py\n",
    "from random import random\n",
    "\n",
    "from bokeh.plotting import figure, curdoc\n",
    "from bokeh.layouts import column\n",
    "from bokeh.models import Slider, ColumnDataSource\n",
    "import requests\n",
    "\n",
    "\n",
    "def get_spots(N):\n",
    "    try:\n",
    "        response = requests.get(\"http://localhost:8000/random\", params={\"N\": N}).json()\n",
    "    except Exception as e:\n",
    "        # Server not running -- using stand-in values instead\n",
    "        response = {\"spots\": [[random(), random()] for _ in range(N)]}\n",
    "    spots = response[\"spots\"]\n",
    "    return {\n",
    "        \"x\": [spot[0] for spot in spots],\n",
    "        \"y\": [spot[1] for spot in spots],\n",
    "    }\n",
    "\n",
    "def add_figure(doc):\n",
    "    N = 10\n",
    "    source = ColumnDataSource(data=get_spots(N))\n",
    "    p = figure(x_range=[0,1], y_range=[0,1])\n",
    "    p.circle(\"x\", \"y\", source=source)\n",
    "\n",
    "\n",
    "    def callback(attr, old, new):\n",
    "        source.data = get_spots(new)\n",
    "\n",
    "    slider = Slider(start=1, end=100, value=N, title=\"Number of spots\")\n",
    "    slider.on_change(\"value\", callback)\n",
    "\n",
    "    doc.add_root(column(p, slider))\n",
    "\n",
    "doc = curdoc()\n",
    "add_figure(doc)"
   ]
  },
  {
   "cell_type": "markdown",
   "id": "a038229b",
   "metadata": {},
   "source": [
    "This then gives the following behaviour, which can also be viewed in the browser after running `bokeh serve --show plot_slider.py`:"
   ]
  },
  {
   "cell_type": "code",
   "execution_count": 12,
   "id": "321134d4",
   "metadata": {},
   "outputs": [
    {
     "data": {
      "application/vnd.bokehjs_exec.v0+json": "",
      "text/html": [
       "<script id=\"1346\">\n",
       "  (function() {\n",
       "    const xhr = new XMLHttpRequest()\n",
       "    xhr.responseType = 'blob';\n",
       "    xhr.open('GET', \"http://localhost:53461/autoload.js?bokeh-autoload-element=1346&bokeh-absolute-url=http://localhost:53461&resources=none\", true);\n",
       "    xhr.onload = function (event) {\n",
       "      const script = document.createElement('script');\n",
       "      const src = URL.createObjectURL(event.target.response);\n",
       "      script.src = src;\n",
       "      document.body.appendChild(script);\n",
       "    };\n",
       "    xhr.send();\n",
       "  })();\n",
       "</script>"
      ]
     },
     "metadata": {
      "application/vnd.bokehjs_exec.v0+json": {
       "server_id": "dab36938bab344c3b54c8e1acb108757"
      }
     },
     "output_type": "display_data"
    }
   ],
   "source": [
    "show(add_figure, notebook_url=\"http://localhost:\" + str(NOTEBOOK_PORT))"
   ]
  },
  {
   "cell_type": "markdown",
   "id": "042cb029",
   "metadata": {},
   "source": [
    "## Part 4: Hosting the bokeh plot via FastAPI\n",
    "\n",
    "Now that we have an interactive plot, we'd like to add a second route to our `FastAPI` app that will serve up this plot alongside the previous route for the data alone. Before we do that, though, let's kill the previous `FastAPI` app:"
   ]
  },
  {
   "cell_type": "code",
   "execution_count": 13,
   "id": "f4e75468",
   "metadata": {},
   "outputs": [
    {
     "data": {
      "text/plain": [
       "False"
      ]
     },
     "execution_count": 13,
     "metadata": {},
     "output_type": "execute_result"
    }
   ],
   "source": [
    "app_process.terminate()\n",
    "app_process.join()\n",
    "app_process.is_alive()"
   ]
  },
  {
   "cell_type": "markdown",
   "id": "2f16d20c",
   "metadata": {},
   "source": [
    "The code that integrates the `bokeh` server with the `FastAPI` app is shown below. Let's take a look, and then discuss the essential ingredients afterwards:"
   ]
  },
  {
   "cell_type": "code",
   "execution_count": 1,
   "id": "765dea3e",
   "metadata": {},
   "outputs": [],
   "source": [
    "# %load fastapi_bokeh.py\n",
    "from random import random\n",
    "from threading import Thread\n",
    "import asyncio\n",
    "import logging\n",
    "\n",
    "from fastapi import FastAPI, Query, Request\n",
    "from fastapi.templating import Jinja2Templates\n",
    "from bokeh.server.server import Server\n",
    "from bokeh.embed import server_document\n",
    "from tornado.ioloop import IOLoop\n",
    "import uvicorn\n",
    "\n",
    "import plot_slider\n",
    "\n",
    "# Because of https://github.com/tornadoweb/tornado/issues/775\n",
    "# this code is required to avoid a call to logging.basicConfig() when using tornado\n",
    "log = logging.getLogger('tornado')\n",
    "handler = logging.NullHandler()\n",
    "log.addHandler(handler)\n",
    "\n",
    "app = FastAPI()\n",
    "templates = Jinja2Templates(directory='.')\n",
    "\n",
    "@app.get(\"/random\", tags=[\"Random Spot Generator\"])\n",
    "async def get_random_numbers(N: int = Query(default=10, gt=0, le=100)):\n",
    "    return {\"spots\": [[random(), random()] for i in range(N)]}\n",
    "\n",
    "\n",
    "@app.get(\"/random/plot\", tags=[\"Random Spot Generator\"])\n",
    "def get_random_numbers_plot(request: Request):\n",
    "    script = server_document(\"http://localhost:8001/plot-slider\")\n",
    "    return templates.TemplateResponse(\n",
    "        \"template.html\",\n",
    "        {\"script\": script, \"request\": request, \"framework\": \"FastAPI\"},\n",
    "    )\n",
    "\n",
    "def start_bokeh_server():\n",
    "    server = Server(\n",
    "        {\n",
    "            \"/plot-slider\": plot_slider.add_figure,\n",
    "        },\n",
    "        io_loop=IOLoop(),\n",
    "        address=\"localhost\",\n",
    "        port=8001,\n",
    "        allow_websocket_origin=[\"localhost:8000\", \"localhost:8001\"],\n",
    "    )\n",
    "    server.start()\n",
    "    server.io_loop.start()\n",
    "\n",
    "def run_server():\n",
    "    bokeh_thread = Thread(target=start_bokeh_server, daemon=True)\n",
    "    bokeh_thread.start()\n",
    "    uvicorn.run(app, host=\"localhost\", port=8000)"
   ]
  },
  {
   "cell_type": "markdown",
   "id": "813a7839",
   "metadata": {},
   "source": [
    "As before, the `FastAPI` app is hosted at `localhost` port 8000:\n",
    "\n",
    "> ```python\n",
    "> uvicorn.run(app, host=\"localhost\", port=8000)\n",
    "> ```\n",
    "\n",
    "However, before running uvicorn, we start up a separate thread which runs the bokeh server:\n",
    "\n",
    "> ```python\n",
    "> bokeh_thread = Thread(target=start_bokeh_server, daemon=True)\n",
    "> bokeh_thread.start()\n",
    "> ```\n",
    "\n",
    "Marking a thread as daemonic means that it will be killed when the main thread exits (which is what we want, so that the bokeh server doesn't continue to run indefinitely in the background).\n",
    "\n"
   ]
  },
  {
   "cell_type": "markdown",
   "id": "aba2c0bd",
   "metadata": {},
   "source": [
    "Within `start_bokeh_server()`, there is &mdash; of course &mdash; the `bokeh` server itself: \n",
    "> ```python\n",
    "> server = Server(\n",
    ">    {\n",
    ">        \"/plot-slider\": plot_slider.add_figure,\n",
    ">    },\n",
    ">    io_loop=IOLoop(),\n",
    ">    address=\"localhost\",\n",
    ">    port=8001,\n",
    ">    allow_websocket_origin=[\"localhost:8000\", \"localhost:8001\"],\n",
    ">)\n",
    "> ```\n",
    "\n",
    "This server will host the route `/plot-slider` at port 8001 to access the plot and slider widget, using the `add_figure(doc)` function from Part 3. We also specify that websocket connections be allowed from both ports 8000 and 8001."
   ]
  },
  {
   "cell_type": "markdown",
   "id": "7d4189dc",
   "metadata": {},
   "source": [
    "We also introduce a `templates` variable, which loads any Jinja templates from the current directory:\n",
    "\n",
    "> ```python\n",
    "> templates = Jinja2Templates(directory='.')\n",
    "> ```\n",
    "\n",
    "Within the `/random/plot` route, we return a template populated from `template.html` which is shown below:"
   ]
  },
  {
   "cell_type": "code",
   "execution_count": null,
   "id": "c2e6cb19",
   "metadata": {},
   "outputs": [],
   "source": [
    "# %load template.html\n",
    "<!doctype html>\n",
    "\n",
    "<html lang=\"en\">\n",
    "\n",
    "<head>\n",
    "    <meta charset=\"utf-8\">\n",
    "    <title>{{ framework }} + Bokeh</title>\n",
    "</head>\n",
    "\n",
    "<body>\n",
    "    <header>\n",
    "        <h1>Random Numbers</h1>\n",
    "        <p>Use the slider to adjust the number of random points displayed.</p>\n",
    "    </header>\n",
    "    {{ script|safe }}\n",
    "</body>\n",
    "\n",
    "</html>"
   ]
  },
  {
   "cell_type": "markdown",
   "id": "99d1ab9e",
   "metadata": {},
   "source": [
    "The `/random/plot` route generates a script to be injected into the template, and returns a populated template:\n",
    "\n",
    "> ```python\n",
    "> @app.get(\"/random/plot\", tags=[\"Random Spot Generator\"])\n",
    "> def get_random_numbers_plot(request: Request):\n",
    ">    script = server_document(\"http://localhost:8001/plot-slider\")\n",
    ">    return templates.TemplateResponse(\n",
    ">        \"template.html\",\n",
    ">        {\"script\": script, \"request\": request, \"framework\": \"FastAPI\"},\n",
    ">    )\n",
    ">\n",
    "\n",
    "As an example, the `framework` name is passed into the template, but other values can be passed in equally easily. (The `request` parameter is required by `FastAPI` in generating the template.) The `script` injected is the javascript  needed to embed the `bokeh` plot and slider within our template."
   ]
  },
  {
   "cell_type": "markdown",
   "id": "1511a9b5",
   "metadata": {},
   "source": [
    "To see this all in action, let's start up another `app_process` to run this server:"
   ]
  },
  {
   "cell_type": "code",
   "execution_count": 3,
   "id": "2d20007a",
   "metadata": {},
   "outputs": [
    {
     "name": "stderr",
     "output_type": "stream",
     "text": [
      "INFO:     Started server process [1974]\n",
      "INFO:     Waiting for application startup.\n",
      "INFO:     Application startup complete.\n",
      "INFO:     Uvicorn running on http://localhost:8000 (Press CTRL+C to quit)\n"
     ]
    },
    {
     "name": "stdout",
     "output_type": "stream",
     "text": [
      "INFO:     ::1:52699 - \"GET /random/plot HTTP/1.1\" 200 OK\n",
      "INFO:     ::1:52704 - \"GET /random?N=10 HTTP/1.1\" 200 OK\n",
      "INFO:     ::1:52753 - \"GET /random?N=10 HTTP/1.1\" 200 OK\n",
      "INFO:     ::1:52908 - \"GET /random?N=11 HTTP/1.1\" 200 OK\n",
      "INFO:     ::1:52910 - \"GET /random?N=13 HTTP/1.1\" 200 OK\n",
      "INFO:     ::1:52912 - \"GET /random?N=15 HTTP/1.1\" 200 OK\n",
      "INFO:     ::1:52914 - \"GET /random?N=17 HTTP/1.1\" 200 OK\n",
      "INFO:     ::1:52917 - \"GET /random?N=19 HTTP/1.1\" 200 OK\n",
      "INFO:     ::1:57395 - \"GET /random/plot HTTP/1.1\" 200 OK\n",
      "INFO:     ::1:57398 - \"GET /random?N=10 HTTP/1.1\" 200 OK\n"
     ]
    },
    {
     "name": "stderr",
     "output_type": "stream",
     "text": [
      "INFO:     Shutting down\n",
      "INFO:     Waiting for application shutdown.\n",
      "INFO:     Application shutdown complete.\n",
      "INFO:     Finished server process [1974]\n"
     ]
    }
   ],
   "source": [
    "# %load run.py\n",
    "from fastapi_bokeh import run_server\n",
    "import multiprocess as mp\n",
    "app_process = mp.Process(target=run_server)\n",
    "app_process.start()"
   ]
  },
  {
   "cell_type": "markdown",
   "id": "c2435770",
   "metadata": {},
   "source": [
    "As you can see, at [http://localhost:8000/random/plot](http://localhost:8000/random/plot) we find the populated template, with the header, plot, and slider:"
   ]
  },
  {
   "cell_type": "code",
   "execution_count": 6,
   "id": "7c8b29e0",
   "metadata": {},
   "outputs": [
    {
     "data": {
      "text/html": [
       "\n",
       "        <iframe\n",
       "            width=\"800\"\n",
       "            height=\"800\"\n",
       "            src=\"http://localhost:8000/random/plot\"\n",
       "            frameborder=\"0\"\n",
       "            allowfullscreen\n",
       "            \n",
       "        ></iframe>\n",
       "        "
      ],
      "text/plain": [
       "<IPython.lib.display.IFrame at 0x10c31eb90>"
      ]
     },
     "execution_count": 6,
     "metadata": {},
     "output_type": "execute_result"
    }
   ],
   "source": [
    "# Displays the contents of a webpage inline in the Jupyter Notebook\n",
    "from IPython.display import IFrame\n",
    "IFrame(\"http://localhost:8000/random/plot\", 800, 800)"
   ]
  },
  {
   "cell_type": "markdown",
   "id": "836ecaf2",
   "metadata": {},
   "source": [
    "And, similarly, if we navigate to [http://localhost:8001/plot-slider](http://localhost:8001/plot-slider) we find the plot alone:"
   ]
  },
  {
   "cell_type": "code",
   "execution_count": 5,
   "id": "c2db7bee",
   "metadata": {},
   "outputs": [
    {
     "data": {
      "text/html": [
       "\n",
       "        <iframe\n",
       "            width=\"800\"\n",
       "            height=\"800\"\n",
       "            src=\"http://localhost:8001/plot-slider\"\n",
       "            frameborder=\"0\"\n",
       "            allowfullscreen\n",
       "            \n",
       "        ></iframe>\n",
       "        "
      ],
      "text/plain": [
       "<IPython.lib.display.IFrame at 0x12ae1e4d0>"
      ]
     },
     "execution_count": 5,
     "metadata": {},
     "output_type": "execute_result"
    }
   ],
   "source": [
    "# Displays the contents of a webpage inline in the Jupyter Notebook\n",
    "from IPython.display import IFrame\n",
    "IFrame(\"http://localhost:8001/plot-slider\", 800, 800)"
   ]
  },
  {
   "cell_type": "markdown",
   "id": "70ecd6ba",
   "metadata": {},
   "source": [
    "Finally, to clean up, we can kill the `app_process`:"
   ]
  },
  {
   "cell_type": "code",
   "execution_count": 7,
   "id": "5c07af9f",
   "metadata": {},
   "outputs": [
    {
     "data": {
      "text/plain": [
       "False"
      ]
     },
     "execution_count": 7,
     "metadata": {},
     "output_type": "execute_result"
    }
   ],
   "source": [
    "app_process.terminate()\n",
    "app_process.join()\n",
    "app_process.is_alive()"
   ]
  },
  {
   "cell_type": "markdown",
   "id": "ccb0f5d8",
   "metadata": {},
   "source": [
    "## Summary\n",
    "\n",
    "The purpose of this example has been to demonstrate how a `bokeh` server can be easily adapted to run alongside a `FastAPI` app, so that rich, interactive plots and widgets can be served to API consumers, in addition to more data-centric routes.\n",
    "\n",
    "I hope you found this article interesting! 🎉 Feel free to follow me on Github [here](https://github.com/m4tt-willi4ms)"
   ]
  }
 ],
 "metadata": {
  "interpreter": {
   "hash": "3b19d5cb71073fcd8141ace1412a1b326ae76de8b220b0be529db5f529d7a08a"
  },
  "kernelspec": {
   "display_name": "Python 3 (ipykernel)",
   "language": "python",
   "name": "python3"
  },
  "language_info": {
   "codemirror_mode": {
    "name": "ipython",
    "version": 3
   },
   "file_extension": ".py",
   "mimetype": "text/x-python",
   "name": "python",
   "nbconvert_exporter": "python",
   "pygments_lexer": "ipython3",
   "version": "3.10.4"
  }
 },
 "nbformat": 4,
 "nbformat_minor": 5
}
